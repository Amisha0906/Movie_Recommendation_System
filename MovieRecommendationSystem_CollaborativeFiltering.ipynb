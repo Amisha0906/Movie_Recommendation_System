{
 "cells": [
  {
   "cell_type": "code",
   "execution_count": 1,
   "id": "fe29e098-dba9-4667-8afb-6fab938d7ff0",
   "metadata": {},
   "outputs": [],
   "source": [
    "import os\n",
    "import pandas as pd\n",
    "import numpy as np\n",
    "import matplotlib.pyplot as plt\n",
    "import seaborn as sns\n",
    "\n",
    "from sklearn.feature_extraction.text import TfidfVectorizer\n",
    "from sklearn.metrics.pairwise import cosine_similarity\n",
    "from scipy.sparse import csr_matrix\n",
    "from sklearn.neighbors import NearestNeighbors\n",
    "from sklearn.model_selection import train_test_split\n",
    "from sklearn.metrics import root_mean_squared_error, mean_squared_error, mean_absolute_error\n",
    "\n",
    "import pickle"
   ]
  },
  {
   "cell_type": "code",
   "execution_count": 2,
   "id": "ecb0d977-ebc9-42da-94cd-38af5473e2c6",
   "metadata": {},
   "outputs": [],
   "source": [
    "movies = pd.read_csv(\"archive/movies.csv\")\n",
    "ratings = pd.read_csv(\"archive//ratings.csv\")"
   ]
  },
  {
   "cell_type": "code",
   "execution_count": 3,
   "id": "69620b37-2bd7-4421-abcd-1f0970a77828",
   "metadata": {},
   "outputs": [
    {
     "data": {
      "text/html": [
       "<div>\n",
       "<style scoped>\n",
       "    .dataframe tbody tr th:only-of-type {\n",
       "        vertical-align: middle;\n",
       "    }\n",
       "\n",
       "    .dataframe tbody tr th {\n",
       "        vertical-align: top;\n",
       "    }\n",
       "\n",
       "    .dataframe thead th {\n",
       "        text-align: right;\n",
       "    }\n",
       "</style>\n",
       "<table border=\"1\" class=\"dataframe\">\n",
       "  <thead>\n",
       "    <tr style=\"text-align: right;\">\n",
       "      <th></th>\n",
       "      <th>movieId</th>\n",
       "      <th>title</th>\n",
       "      <th>genres</th>\n",
       "    </tr>\n",
       "  </thead>\n",
       "  <tbody>\n",
       "    <tr>\n",
       "      <th>0</th>\n",
       "      <td>1</td>\n",
       "      <td>Toy Story (1995)</td>\n",
       "      <td>Adventure|Animation|Children|Comedy|Fantasy</td>\n",
       "    </tr>\n",
       "    <tr>\n",
       "      <th>1</th>\n",
       "      <td>2</td>\n",
       "      <td>Jumanji (1995)</td>\n",
       "      <td>Adventure|Children|Fantasy</td>\n",
       "    </tr>\n",
       "    <tr>\n",
       "      <th>2</th>\n",
       "      <td>3</td>\n",
       "      <td>Grumpier Old Men (1995)</td>\n",
       "      <td>Comedy|Romance</td>\n",
       "    </tr>\n",
       "    <tr>\n",
       "      <th>3</th>\n",
       "      <td>4</td>\n",
       "      <td>Waiting to Exhale (1995)</td>\n",
       "      <td>Comedy|Drama|Romance</td>\n",
       "    </tr>\n",
       "    <tr>\n",
       "      <th>4</th>\n",
       "      <td>5</td>\n",
       "      <td>Father of the Bride Part II (1995)</td>\n",
       "      <td>Comedy</td>\n",
       "    </tr>\n",
       "  </tbody>\n",
       "</table>\n",
       "</div>"
      ],
      "text/plain": [
       "   movieId                               title  \\\n",
       "0        1                    Toy Story (1995)   \n",
       "1        2                      Jumanji (1995)   \n",
       "2        3             Grumpier Old Men (1995)   \n",
       "3        4            Waiting to Exhale (1995)   \n",
       "4        5  Father of the Bride Part II (1995)   \n",
       "\n",
       "                                        genres  \n",
       "0  Adventure|Animation|Children|Comedy|Fantasy  \n",
       "1                   Adventure|Children|Fantasy  \n",
       "2                               Comedy|Romance  \n",
       "3                         Comedy|Drama|Romance  \n",
       "4                                       Comedy  "
      ]
     },
     "execution_count": 3,
     "metadata": {},
     "output_type": "execute_result"
    }
   ],
   "source": [
    "movies.head()"
   ]
  },
  {
   "cell_type": "code",
   "execution_count": 4,
   "id": "fffe1863-9cd2-4898-8875-2584dcefa66b",
   "metadata": {},
   "outputs": [
    {
     "data": {
      "text/html": [
       "<div>\n",
       "<style scoped>\n",
       "    .dataframe tbody tr th:only-of-type {\n",
       "        vertical-align: middle;\n",
       "    }\n",
       "\n",
       "    .dataframe tbody tr th {\n",
       "        vertical-align: top;\n",
       "    }\n",
       "\n",
       "    .dataframe thead th {\n",
       "        text-align: right;\n",
       "    }\n",
       "</style>\n",
       "<table border=\"1\" class=\"dataframe\">\n",
       "  <thead>\n",
       "    <tr style=\"text-align: right;\">\n",
       "      <th></th>\n",
       "      <th>userId</th>\n",
       "      <th>movieId</th>\n",
       "      <th>rating</th>\n",
       "      <th>timestamp</th>\n",
       "    </tr>\n",
       "  </thead>\n",
       "  <tbody>\n",
       "    <tr>\n",
       "      <th>0</th>\n",
       "      <td>1</td>\n",
       "      <td>1</td>\n",
       "      <td>4.0</td>\n",
       "      <td>964982703</td>\n",
       "    </tr>\n",
       "    <tr>\n",
       "      <th>1</th>\n",
       "      <td>1</td>\n",
       "      <td>3</td>\n",
       "      <td>4.0</td>\n",
       "      <td>964981247</td>\n",
       "    </tr>\n",
       "    <tr>\n",
       "      <th>2</th>\n",
       "      <td>1</td>\n",
       "      <td>6</td>\n",
       "      <td>4.0</td>\n",
       "      <td>964982224</td>\n",
       "    </tr>\n",
       "    <tr>\n",
       "      <th>3</th>\n",
       "      <td>1</td>\n",
       "      <td>47</td>\n",
       "      <td>5.0</td>\n",
       "      <td>964983815</td>\n",
       "    </tr>\n",
       "    <tr>\n",
       "      <th>4</th>\n",
       "      <td>1</td>\n",
       "      <td>50</td>\n",
       "      <td>5.0</td>\n",
       "      <td>964982931</td>\n",
       "    </tr>\n",
       "  </tbody>\n",
       "</table>\n",
       "</div>"
      ],
      "text/plain": [
       "   userId  movieId  rating  timestamp\n",
       "0       1        1     4.0  964982703\n",
       "1       1        3     4.0  964981247\n",
       "2       1        6     4.0  964982224\n",
       "3       1       47     5.0  964983815\n",
       "4       1       50     5.0  964982931"
      ]
     },
     "execution_count": 4,
     "metadata": {},
     "output_type": "execute_result"
    }
   ],
   "source": [
    "ratings.head()"
   ]
  },
  {
   "cell_type": "code",
   "execution_count": 5,
   "id": "d1e80209-ab80-4e64-832d-1935763356fa",
   "metadata": {},
   "outputs": [
    {
     "data": {
      "text/plain": [
       "(100836, 4)"
      ]
     },
     "execution_count": 5,
     "metadata": {},
     "output_type": "execute_result"
    }
   ],
   "source": [
    "ratings.shape"
   ]
  },
  {
   "cell_type": "code",
   "execution_count": null,
   "id": "5de56918-3c16-4c0e-9ca5-78115287577a",
   "metadata": {},
   "outputs": [],
   "source": []
  },
  {
   "cell_type": "markdown",
   "id": "07971fdb-442d-42ff-acdd-6baf9a0b871f",
   "metadata": {},
   "source": [
    "## Collaborative (User-Based) Filtering"
   ]
  },
  {
   "cell_type": "markdown",
   "id": "1b42722d-0e40-4c8a-b86c-9aa0b3980b63",
   "metadata": {},
   "source": [
    "#### Creating the user-movie rating matrix - \n",
    "Pivoting the ratings data so that each row represents a user and each column a movie."
   ]
  },
  {
   "cell_type": "code",
   "execution_count": 6,
   "id": "acd6abf5-547f-4686-b9a1-d43648480a2e",
   "metadata": {
    "scrolled": true
   },
   "outputs": [],
   "source": [
    "user_movie_matrix = ratings.pivot_table(index='userId', columns='movieId', values='rating')\n",
    "# print(user_movie_matrix)"
   ]
  },
  {
   "cell_type": "code",
   "execution_count": 7,
   "id": "6697ac4c-a8f9-43e4-9550-6feedffb0ec3",
   "metadata": {},
   "outputs": [
    {
     "data": {
      "text/html": [
       "<div>\n",
       "<style scoped>\n",
       "    .dataframe tbody tr th:only-of-type {\n",
       "        vertical-align: middle;\n",
       "    }\n",
       "\n",
       "    .dataframe tbody tr th {\n",
       "        vertical-align: top;\n",
       "    }\n",
       "\n",
       "    .dataframe thead th {\n",
       "        text-align: right;\n",
       "    }\n",
       "</style>\n",
       "<table border=\"1\" class=\"dataframe\">\n",
       "  <thead>\n",
       "    <tr style=\"text-align: right;\">\n",
       "      <th>movieId</th>\n",
       "      <th>1</th>\n",
       "      <th>2</th>\n",
       "      <th>3</th>\n",
       "      <th>4</th>\n",
       "      <th>5</th>\n",
       "      <th>6</th>\n",
       "      <th>7</th>\n",
       "      <th>8</th>\n",
       "      <th>9</th>\n",
       "      <th>10</th>\n",
       "      <th>...</th>\n",
       "      <th>193565</th>\n",
       "      <th>193567</th>\n",
       "      <th>193571</th>\n",
       "      <th>193573</th>\n",
       "      <th>193579</th>\n",
       "      <th>193581</th>\n",
       "      <th>193583</th>\n",
       "      <th>193585</th>\n",
       "      <th>193587</th>\n",
       "      <th>193609</th>\n",
       "    </tr>\n",
       "    <tr>\n",
       "      <th>userId</th>\n",
       "      <th></th>\n",
       "      <th></th>\n",
       "      <th></th>\n",
       "      <th></th>\n",
       "      <th></th>\n",
       "      <th></th>\n",
       "      <th></th>\n",
       "      <th></th>\n",
       "      <th></th>\n",
       "      <th></th>\n",
       "      <th></th>\n",
       "      <th></th>\n",
       "      <th></th>\n",
       "      <th></th>\n",
       "      <th></th>\n",
       "      <th></th>\n",
       "      <th></th>\n",
       "      <th></th>\n",
       "      <th></th>\n",
       "      <th></th>\n",
       "      <th></th>\n",
       "    </tr>\n",
       "  </thead>\n",
       "  <tbody>\n",
       "    <tr>\n",
       "      <th>1</th>\n",
       "      <td>4.0</td>\n",
       "      <td>NaN</td>\n",
       "      <td>4.0</td>\n",
       "      <td>NaN</td>\n",
       "      <td>NaN</td>\n",
       "      <td>4.0</td>\n",
       "      <td>NaN</td>\n",
       "      <td>NaN</td>\n",
       "      <td>NaN</td>\n",
       "      <td>NaN</td>\n",
       "      <td>...</td>\n",
       "      <td>NaN</td>\n",
       "      <td>NaN</td>\n",
       "      <td>NaN</td>\n",
       "      <td>NaN</td>\n",
       "      <td>NaN</td>\n",
       "      <td>NaN</td>\n",
       "      <td>NaN</td>\n",
       "      <td>NaN</td>\n",
       "      <td>NaN</td>\n",
       "      <td>NaN</td>\n",
       "    </tr>\n",
       "    <tr>\n",
       "      <th>2</th>\n",
       "      <td>NaN</td>\n",
       "      <td>NaN</td>\n",
       "      <td>NaN</td>\n",
       "      <td>NaN</td>\n",
       "      <td>NaN</td>\n",
       "      <td>NaN</td>\n",
       "      <td>NaN</td>\n",
       "      <td>NaN</td>\n",
       "      <td>NaN</td>\n",
       "      <td>NaN</td>\n",
       "      <td>...</td>\n",
       "      <td>NaN</td>\n",
       "      <td>NaN</td>\n",
       "      <td>NaN</td>\n",
       "      <td>NaN</td>\n",
       "      <td>NaN</td>\n",
       "      <td>NaN</td>\n",
       "      <td>NaN</td>\n",
       "      <td>NaN</td>\n",
       "      <td>NaN</td>\n",
       "      <td>NaN</td>\n",
       "    </tr>\n",
       "    <tr>\n",
       "      <th>3</th>\n",
       "      <td>NaN</td>\n",
       "      <td>NaN</td>\n",
       "      <td>NaN</td>\n",
       "      <td>NaN</td>\n",
       "      <td>NaN</td>\n",
       "      <td>NaN</td>\n",
       "      <td>NaN</td>\n",
       "      <td>NaN</td>\n",
       "      <td>NaN</td>\n",
       "      <td>NaN</td>\n",
       "      <td>...</td>\n",
       "      <td>NaN</td>\n",
       "      <td>NaN</td>\n",
       "      <td>NaN</td>\n",
       "      <td>NaN</td>\n",
       "      <td>NaN</td>\n",
       "      <td>NaN</td>\n",
       "      <td>NaN</td>\n",
       "      <td>NaN</td>\n",
       "      <td>NaN</td>\n",
       "      <td>NaN</td>\n",
       "    </tr>\n",
       "    <tr>\n",
       "      <th>4</th>\n",
       "      <td>NaN</td>\n",
       "      <td>NaN</td>\n",
       "      <td>NaN</td>\n",
       "      <td>NaN</td>\n",
       "      <td>NaN</td>\n",
       "      <td>NaN</td>\n",
       "      <td>NaN</td>\n",
       "      <td>NaN</td>\n",
       "      <td>NaN</td>\n",
       "      <td>NaN</td>\n",
       "      <td>...</td>\n",
       "      <td>NaN</td>\n",
       "      <td>NaN</td>\n",
       "      <td>NaN</td>\n",
       "      <td>NaN</td>\n",
       "      <td>NaN</td>\n",
       "      <td>NaN</td>\n",
       "      <td>NaN</td>\n",
       "      <td>NaN</td>\n",
       "      <td>NaN</td>\n",
       "      <td>NaN</td>\n",
       "    </tr>\n",
       "    <tr>\n",
       "      <th>5</th>\n",
       "      <td>4.0</td>\n",
       "      <td>NaN</td>\n",
       "      <td>NaN</td>\n",
       "      <td>NaN</td>\n",
       "      <td>NaN</td>\n",
       "      <td>NaN</td>\n",
       "      <td>NaN</td>\n",
       "      <td>NaN</td>\n",
       "      <td>NaN</td>\n",
       "      <td>NaN</td>\n",
       "      <td>...</td>\n",
       "      <td>NaN</td>\n",
       "      <td>NaN</td>\n",
       "      <td>NaN</td>\n",
       "      <td>NaN</td>\n",
       "      <td>NaN</td>\n",
       "      <td>NaN</td>\n",
       "      <td>NaN</td>\n",
       "      <td>NaN</td>\n",
       "      <td>NaN</td>\n",
       "      <td>NaN</td>\n",
       "    </tr>\n",
       "  </tbody>\n",
       "</table>\n",
       "<p>5 rows × 9724 columns</p>\n",
       "</div>"
      ],
      "text/plain": [
       "movieId  1       2       3       4       5       6       7       8       \\\n",
       "userId                                                                    \n",
       "1           4.0     NaN     4.0     NaN     NaN     4.0     NaN     NaN   \n",
       "2           NaN     NaN     NaN     NaN     NaN     NaN     NaN     NaN   \n",
       "3           NaN     NaN     NaN     NaN     NaN     NaN     NaN     NaN   \n",
       "4           NaN     NaN     NaN     NaN     NaN     NaN     NaN     NaN   \n",
       "5           4.0     NaN     NaN     NaN     NaN     NaN     NaN     NaN   \n",
       "\n",
       "movieId  9       10      ...  193565  193567  193571  193573  193579  193581  \\\n",
       "userId                   ...                                                   \n",
       "1           NaN     NaN  ...     NaN     NaN     NaN     NaN     NaN     NaN   \n",
       "2           NaN     NaN  ...     NaN     NaN     NaN     NaN     NaN     NaN   \n",
       "3           NaN     NaN  ...     NaN     NaN     NaN     NaN     NaN     NaN   \n",
       "4           NaN     NaN  ...     NaN     NaN     NaN     NaN     NaN     NaN   \n",
       "5           NaN     NaN  ...     NaN     NaN     NaN     NaN     NaN     NaN   \n",
       "\n",
       "movieId  193583  193585  193587  193609  \n",
       "userId                                   \n",
       "1           NaN     NaN     NaN     NaN  \n",
       "2           NaN     NaN     NaN     NaN  \n",
       "3           NaN     NaN     NaN     NaN  \n",
       "4           NaN     NaN     NaN     NaN  \n",
       "5           NaN     NaN     NaN     NaN  \n",
       "\n",
       "[5 rows x 9724 columns]"
      ]
     },
     "execution_count": 7,
     "metadata": {},
     "output_type": "execute_result"
    }
   ],
   "source": [
    "user_movie_matrix.head()"
   ]
  },
  {
   "cell_type": "markdown",
   "id": "32aa92dc-fcbd-4060-b17a-54b099729e51",
   "metadata": {},
   "source": [
    "### Finding similar users by computing cosine similarity between users.\n",
    "#### This creates a matrix where each entry (i, j) is the similarity between user i and user j."
   ]
  },
  {
   "cell_type": "code",
   "execution_count": 8,
   "id": "83e2ec4e-0cf4-4889-8281-eb8ac9c66fd2",
   "metadata": {
    "scrolled": true
   },
   "outputs": [
    {
     "name": "stdout",
     "output_type": "stream",
     "text": [
      "User Similarity Matrix:\n",
      "userId       1         2         3         4         5         6         7    \\\n",
      "userId                                                                         \n",
      "1       1.000000  0.027283  0.059720  0.194395  0.129080  0.128152  0.158744   \n",
      "2       0.027283  1.000000  0.000000  0.003726  0.016614  0.025333  0.027585   \n",
      "3       0.059720  0.000000  1.000000  0.002251  0.005020  0.003936  0.000000   \n",
      "4       0.194395  0.003726  0.002251  1.000000  0.128659  0.088491  0.115120   \n",
      "5       0.129080  0.016614  0.005020  0.128659  1.000000  0.300349  0.108342   \n",
      "...          ...       ...       ...       ...       ...       ...       ...   \n",
      "606     0.164191  0.028429  0.012993  0.200395  0.106435  0.102123  0.200035   \n",
      "607     0.269389  0.012948  0.019247  0.131746  0.152866  0.162182  0.186114   \n",
      "608     0.291097  0.046211  0.021128  0.149858  0.135535  0.178809  0.323541   \n",
      "609     0.093572  0.027565  0.000000  0.032198  0.261232  0.214234  0.090840   \n",
      "610     0.145321  0.102427  0.032119  0.107683  0.060792  0.052668  0.193219   \n",
      "\n",
      "userId       8         9         10   ...       601       602       603  \\\n",
      "userId                                ...                                 \n",
      "1       0.136968  0.064263  0.016875  ...  0.080554  0.164455  0.221486   \n",
      "2       0.027257  0.000000  0.067445  ...  0.202671  0.016866  0.011997   \n",
      "3       0.004941  0.000000  0.000000  ...  0.005048  0.004892  0.024992   \n",
      "4       0.062969  0.011361  0.031163  ...  0.085938  0.128273  0.307973   \n",
      "5       0.429075  0.000000  0.030611  ...  0.068048  0.418747  0.110148   \n",
      "...          ...       ...       ...  ...       ...       ...       ...   \n",
      "606     0.099388  0.075898  0.088963  ...  0.178084  0.116534  0.300669   \n",
      "607     0.185142  0.011844  0.010451  ...  0.092525  0.199910  0.203540   \n",
      "608     0.187233  0.100435  0.077424  ...  0.158355  0.197514  0.232771   \n",
      "609     0.423993  0.000000  0.021766  ...  0.035653  0.335231  0.061941   \n",
      "610     0.078153  0.074399  0.121072  ...  0.222491  0.087528  0.163094   \n",
      "\n",
      "userId       604       605       606       607       608       609       610  \n",
      "userId                                                                        \n",
      "1       0.070669  0.153625  0.164191  0.269389  0.291097  0.093572  0.145321  \n",
      "2       0.000000  0.000000  0.028429  0.012948  0.046211  0.027565  0.102427  \n",
      "3       0.000000  0.010694  0.012993  0.019247  0.021128  0.000000  0.032119  \n",
      "4       0.052985  0.084584  0.200395  0.131746  0.149858  0.032198  0.107683  \n",
      "5       0.258773  0.148758  0.106435  0.152866  0.135535  0.261232  0.060792  \n",
      "...          ...       ...       ...       ...       ...       ...       ...  \n",
      "606     0.066032  0.148141  1.000000  0.153063  0.262558  0.069622  0.201104  \n",
      "607     0.137834  0.118780  0.153063  1.000000  0.283081  0.149190  0.139114  \n",
      "608     0.155306  0.178142  0.262558  0.283081  1.000000  0.121993  0.322055  \n",
      "609     0.236601  0.097610  0.069622  0.149190  0.121993  1.000000  0.053225  \n",
      "610     0.052552  0.119295  0.201104  0.139114  0.322055  0.053225  1.000000  \n",
      "\n",
      "[610 rows x 610 columns]\n"
     ]
    }
   ],
   "source": [
    "from sklearn.metrics.pairwise import cosine_similarity\n",
    "\n",
    "# Fill missing values with 0\n",
    "user_movie_filled = user_movie_matrix.fillna(0)\n",
    "# Compute cosine similarity between users\n",
    "user_similarity = cosine_similarity(user_movie_filled)\n",
    "cosine_sim_df = pd.DataFrame(user_similarity, index=user_movie_matrix.index, columns=user_movie_matrix.index)\n",
    "\n",
    "print(\"User Similarity Matrix:\")\n",
    "print(cosine_sim_df)\n"
   ]
  },
  {
   "cell_type": "markdown",
   "id": "e07c37a8-2beb-45c5-ac94-e88c6301f29d",
   "metadata": {},
   "source": [
    "We can also find similar users by **pearson correlation**"
   ]
  },
  {
   "cell_type": "code",
   "execution_count": 9,
   "id": "a73989b2-648c-494c-977a-d98535d8a971",
   "metadata": {},
   "outputs": [],
   "source": [
    "# Compute mean rating per user\n",
    "user_means = user_movie_matrix.mean(axis=1)\n",
    "\n",
    "# Subtract the mean rating from each user's ratings to center the data\n",
    "ratings_diff = user_movie_matrix.sub(user_means, axis=0)\n",
    "\n",
    "# Compute Pearson correlation by taking the correlation of users\n",
    "# Note: We need to work with the original non-filled matrix to avoid biasing the correlation.\n",
    "pearson_sim_df = ratings_diff.T.corr()\n",
    "pearson_sim_df.fillna(0.0, inplace=True)      # now every similarity is a real number"
   ]
  },
  {
   "cell_type": "markdown",
   "id": "dfce8ee9-354b-4dda-aa21-1652f10d0399",
   "metadata": {},
   "source": [
    "### Making Recommendations -\n",
    "1. Identifying similar users\n",
    "2. Predicting ratings for unseen movies\n",
    "3. Returning top *n* recommendations"
   ]
  },
  {
   "cell_type": "code",
   "execution_count": 10,
   "id": "206c2e03-5739-49f3-b0f5-9ccf84c5c372",
   "metadata": {},
   "outputs": [],
   "source": [
    "def get_top_k_users(user_id, similarity_df, k=2):\n",
    "    return similarity_df.loc[user_id].drop(user_id).sort_values(ascending=False).head(k)"
   ]
  },
  {
   "cell_type": "code",
   "execution_count": 22,
   "id": "83d0ad1e-2237-4f28-8ab1-109c5db50c71",
   "metadata": {},
   "outputs": [],
   "source": [
    "def get_recommendations(user_id, num_recommendations=5):\n",
    "    \"\"\"\n",
    "    Get top movie recommendations for a user based on user-based collaborative filtering.\n",
    "    \n",
    "    Args:\n",
    "        user_id (int): The target user ID.\n",
    "        num_recommendations (int): Number of movie recommendations to return.\n",
    "    \n",
    "    Returns:\n",
    "        A DataFrame with recommended movies and predicted ratings.\n",
    "    \"\"\"\n",
    "    # Get the similarity scores for the target user, drop self, and sort descending\n",
    "    # similar_users = user_similarity_df[user_id].drop(labels=[user_id]).sort_values(ascending=False)\n",
    "    similar_users = get_top_k_users(user_id, cosine_sim_df)\n",
    "    # similar_users = get_top_k_users(user_id, pearson_sim_df)\n",
    "    \n",
    "    # Get movies already rated by the target user\n",
    "    user_rated_movies = user_movie_matrix.loc[user_id].dropna().index.tolist()\n",
    "    \n",
    "    # Dictionary to store the weighted ratings for movies not seen by the user\n",
    "    recommendations = {}\n",
    "    \n",
    "    # Iterate over all movies in the dataset\n",
    "    for movie in user_movie_matrix.columns:\n",
    "        if movie not in user_rated_movies:\n",
    "            numerator = 0\n",
    "            denominator = 0\n",
    "            # Consider similar users who rated this movie\n",
    "            for other_user, sim_score in similar_users.items():\n",
    "                other_rating = user_movie_matrix.loc[other_user].get(movie)\n",
    "                if pd.notna(other_rating):\n",
    "                    numerator += sim_score * other_rating\n",
    "                    denominator += sim_score\n",
    "            if denominator > 0:\n",
    "                recommendations[movie] = numerator / denominator\n",
    "\n",
    "    # print(recommendations)\n",
    "    # Convert the recommendations dictionary to a DataFrame and sort by predicted rating\n",
    "    recs = pd.DataFrame(list(recommendations.items()), columns=['movieId', 'predicted_rating'])\n",
    "    recs = recs.sort_values(by='predicted_rating', ascending=False)\n",
    "    \n",
    "    # Merge with movies dataframe to add movie titles and genres\n",
    "    recs = recs.merge(movies, on='movieId', how='left')\n",
    "    \n",
    "    return recs.head(num_recommendations)"
   ]
  },
  {
   "cell_type": "code",
   "execution_count": 23,
   "id": "72579e10-a470-4caa-91a7-7341066af908",
   "metadata": {},
   "outputs": [
    {
     "name": "stdout",
     "output_type": "stream",
     "text": [
      "Top movie recommendations for user 1:\n",
      "   movieId  predicted_rating                                         title  \\\n",
      "0     3032               5.0                         Omega Man, The (1971)   \n",
      "1     2890               5.0                            Three Kings (1999)   \n",
      "2     1266               5.0                             Unforgiven (1992)   \n",
      "3     2683               5.0  Austin Powers: The Spy Who Shagged Me (1999)   \n",
      "4     2702               5.0                          Summer of Sam (1999)   \n",
      "\n",
      "                              genres  \n",
      "0       Action|Drama|Sci-Fi|Thriller  \n",
      "1  Action|Adventure|Comedy|Drama|War  \n",
      "2                      Drama|Western  \n",
      "3            Action|Adventure|Comedy  \n",
      "4                              Drama  \n"
     ]
    }
   ],
   "source": [
    "target_user_id = 1  # Replace with any valid userId from your dataset\n",
    "recommended_movies = get_recommendations(target_user_id, num_recommendations=5)\n",
    "\n",
    "print(\"Top movie recommendations for user {}:\".format(target_user_id))\n",
    "print(recommended_movies)"
   ]
  },
  {
   "cell_type": "markdown",
   "id": "e824a38d-7dee-4ffe-855d-c75c3c0055e9",
   "metadata": {},
   "source": [
    "#### Evaluation"
   ]
  },
  {
   "cell_type": "code",
   "execution_count": 13,
   "id": "cd787cf4-affa-4914-9d44-d24961ebeda3",
   "metadata": {},
   "outputs": [],
   "source": [
    "def predict_rating_cosine(user_id, movie_id):\n",
    "    # Select similar users (dropping target user)\n",
    "    similar_users = cosine_sim_df[user_id].drop(labels=[user_id]).sort_values(ascending=False)\n",
    "    \n",
    "    # Calculate numerator & denominator for weighted average\n",
    "    numerator, denominator = 0, 0\n",
    "    for other_user, sim_score in similar_users.items():\n",
    "        other_rating = user_movie_matrix.loc[other_user].get(movie_id)\n",
    "        if pd.notna(other_rating):\n",
    "            numerator += sim_score * other_rating\n",
    "            denominator += sim_score\n",
    "    if denominator == 0:\n",
    "        # Fallback: if no similar user rated the movie, use the user's mean or global mean\n",
    "        user_ratings = user_movie_matrix.loc[user_id]\n",
    "        if user_ratings.count() > 0:\n",
    "            return user_ratings.mean()\n",
    "        else:\n",
    "            return user_movie_matrix.values.flatten().mean()\n",
    "    return numerator / denominator\n"
   ]
  },
  {
   "cell_type": "code",
   "execution_count": 14,
   "id": "e5c1d9f9-f273-46ae-93d5-88da2a6b2e97",
   "metadata": {},
   "outputs": [],
   "source": [
    "def predict_rating_pearson(user_id, movie_id):\n",
    "    # Mean rating for the target user\n",
    "    target_mean = user_means.loc[user_id]\n",
    "    \n",
    "    # Similarity scores from Pearson correlation\n",
    "    similar_users = pearson_sim_df[user_id].drop(labels=[user_id]).sort_values(ascending=False)\n",
    "    \n",
    "    numerator, denominator = 0, 0\n",
    "    for other_user, sim_score in similar_users.items():\n",
    "        other_mean = user_means.loc[other_user]\n",
    "        other_rating = user_movie_matrix.loc[other_user].get(movie_id)\n",
    "        if pd.notna(other_rating):\n",
    "            # Use the deviation from the mean rating\n",
    "            numerator += sim_score * (other_rating - other_mean)\n",
    "            denominator += abs(sim_score)\n",
    "    if denominator == 0:\n",
    "        # Fallback: if no similar user rated the movie, use the user's mean or global mean\n",
    "        user_ratings = user_movie_matrix.loc[user_id]\n",
    "        if user_ratings.count() > 0:\n",
    "            return user_ratings.mean()\n",
    "        else:\n",
    "            return user_movie_matrix.values.flatten().mean()\n",
    "    return (numerator / denominator)\n"
   ]
  },
  {
   "cell_type": "code",
   "execution_count": 15,
   "id": "10f46953-8595-4771-8246-09d8ec82b104",
   "metadata": {},
   "outputs": [
    {
     "name": "stdout",
     "output_type": "stream",
     "text": [
      "Training set size: 100226\n",
      "Test set size: 610\n"
     ]
    }
   ],
   "source": [
    "def leave_one_out_split(ratings_df):\n",
    "    \"\"\"\n",
    "    For every user, hold out the latest rating (by timestamp) for testing.\n",
    "    If a user only has one rating, we keep it in training.\n",
    "    Returns:\n",
    "        train_df: DataFrame for training data.\n",
    "        test_df: DataFrame for test data.\n",
    "    \"\"\"\n",
    "    # Ensure ratings are sorted by timestamp to simulate time-based splitting\n",
    "    ratings_df = ratings_df.sort_values(by='timestamp')\n",
    "    \n",
    "    train_list = []\n",
    "    test_list = []\n",
    "    \n",
    "    # Group by user\n",
    "    for user_id, group in ratings_df.groupby('userId'):\n",
    "        if len(group) > 1:\n",
    "            # Use the latest rating as test, and the remaining as training\n",
    "            test_list.append(group.tail(1))\n",
    "            train_list.append(group.iloc[:-1])\n",
    "        else:\n",
    "            # If there's only one rating for the user, include it in training\n",
    "            train_list.append(group)\n",
    "    \n",
    "    train_df = pd.concat(train_list).reset_index(drop=True)\n",
    "    test_df = pd.concat(test_list).reset_index(drop=True)\n",
    "    return train_df, test_df\n",
    "\n",
    "train_df, test_df = leave_one_out_split(ratings)\n",
    "print(\"Training set size:\", train_df.shape[0])\n",
    "print(\"Test set size:\", test_df.shape[0])"
   ]
  },
  {
   "cell_type": "code",
   "execution_count": 16,
   "id": "7c6dbe42-1e77-486e-906d-0954bc0a430e",
   "metadata": {},
   "outputs": [],
   "source": [
    "predictions=[]\n",
    "actuals=[]\n",
    "\n",
    "predictions_pearson=[]\n",
    "actuals=[]"
   ]
  },
  {
   "cell_type": "code",
   "execution_count": 17,
   "id": "e5a6f474-d93a-4779-9d12-d03462b9ecb3",
   "metadata": {
    "scrolled": true
   },
   "outputs": [],
   "source": [
    "for row in test_df.itertuples(index=False):\n",
    "    user_id = row.userId\n",
    "    movie_id = row.movieId\n",
    "    true_rating = row.rating\n",
    "    \n",
    "    # Check if the user exists in the training set; if not, fallback to global average\n",
    "    if user_id in user_movie_matrix.index:\n",
    "        pred_rating = predict_rating_cosine(user_id, movie_id)\n",
    "        pred_rating_pearson = predict_rating_pearson(user_id, movie_id)\n",
    "    else:\n",
    "        pred_rating = train_df['rating'].mean()  # or any default strategy\n",
    "        pred_rating_pearson = train_df['rating'].mean()  # or any default strategy\n",
    "    # print(pred_rating)\n",
    "    predictions.append(pred_rating)\n",
    "    predictions_pearson.append(pred_rating_pearson)\n",
    "    actuals.append(true_rating)\n"
   ]
  },
  {
   "cell_type": "code",
   "execution_count": 19,
   "id": "4700138e-9d91-47a4-b998-eb2618f12a06",
   "metadata": {
    "scrolled": true
   },
   "outputs": [
    {
     "name": "stdout",
     "output_type": "stream",
     "text": [
      "Evaluation Metrics:\n",
      "RMSE: 1.0619\n",
      "MAE: 0.8133\n"
     ]
    }
   ],
   "source": [
    "rmse = mean_squared_error(actuals, predictions)\n",
    "mae = mean_absolute_error(actuals, predictions)\n",
    "\n",
    "print(\"Evaluation Metrics:\")\n",
    "print(\"RMSE: {:.4f}\".format(rmse))\n",
    "print(\"MAE: {:.4f}\".format(mae))"
   ]
  },
  {
   "cell_type": "code",
   "execution_count": 18,
   "id": "065a14af-2fe7-40f1-b095-69a407bbb12e",
   "metadata": {
    "scrolled": true
   },
   "outputs": [
    {
     "name": "stdout",
     "output_type": "stream",
     "text": [
      "Evaluation Metrics:\n",
      "RMSE: 13.6444\n",
      "MAE: 3.5447\n"
     ]
    }
   ],
   "source": [
    "rmse = mean_squared_error(actuals, predictions_pearson)\n",
    "mae = mean_absolute_error(actuals, predictions_pearson)\n",
    "\n",
    "print(\"Evaluation Metrics:\")\n",
    "print(\"RMSE: {:.4f}\".format(rmse))\n",
    "print(\"MAE: {:.4f}\".format(mae))"
   ]
  },
  {
   "cell_type": "code",
   "execution_count": null,
   "id": "37a7148d-1213-46e5-a060-4416cb07dda6",
   "metadata": {},
   "outputs": [],
   "source": []
  }
 ],
 "metadata": {
  "kernelspec": {
   "display_name": "Python 3 (ipykernel)",
   "language": "python",
   "name": "python3"
  },
  "language_info": {
   "codemirror_mode": {
    "name": "ipython",
    "version": 3
   },
   "file_extension": ".py",
   "mimetype": "text/x-python",
   "name": "python",
   "nbconvert_exporter": "python",
   "pygments_lexer": "ipython3",
   "version": "3.12.8"
  }
 },
 "nbformat": 4,
 "nbformat_minor": 5
}
